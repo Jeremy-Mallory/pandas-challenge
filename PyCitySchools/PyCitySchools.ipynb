{
 "cells": [
  {
   "cell_type": "markdown",
   "id": "bb95a96b",
   "metadata": {},
   "source": [
    "# PyCity Schools Analysis\n"
   ]
  },
  {
   "cell_type": "code",
   "execution_count": 1,
   "id": "aa619c22",
   "metadata": {},
   "outputs": [],
   "source": [
    "import pandas as pd"
   ]
  },
  {
   "cell_type": "code",
   "execution_count": null,
   "id": "ccbee470",
   "metadata": {},
   "outputs": [],
   "source": [
    "# File to Load \n",
    "school_data_to_load = \"Resources/schools_complete.csv\"\n",
    "student_data_to_load = \"Resources/students_complete.csv\"\n",
    "\n",
    "# Read School and Student Data File and store into Pandas DataFrames\n",
    "school_data = pd.read_csv(school_data_to_load)\n",
    "student_data = pd.read_csv(student_data_to_load)\n",
    "\n",
    "# Combine the data into a single dataset.\n",
    "df = pd.merge(student_data, school_data, how=\"left\", on=[\"school_name\", \"school_name\"])\n",
    "df.tail(10)\n"
   ]
  },
  {
   "cell_type": "markdown",
   "id": "27941a19",
   "metadata": {},
   "source": [
    "# DISTRICT SUMMARY"
   ]
  },
  {
   "cell_type": "code",
   "execution_count": null,
   "id": "f66c0453",
   "metadata": {},
   "outputs": [],
   "source": [
    "# Calculate the total number of unique schools\n",
    "school_count = df[\"school_name\"].nunique()\n",
    "\n",
    "school_count"
   ]
  },
  {
   "cell_type": "code",
   "execution_count": null,
   "id": "485529aa",
   "metadata": {},
   "outputs": [],
   "source": [
    "# Calculate the total number of students\n",
    "student_count = df['student_name'].count()\n",
    "\n",
    "student_count"
   ]
  },
  {
   "cell_type": "code",
   "execution_count": null,
   "id": "90062f00",
   "metadata": {},
   "outputs": [],
   "source": [
    "# Calculate the total budget\n",
    "budget_df = pd.Series(df['budget'].unique())\n",
    "\n",
    "budget_count = budget_df.sum()\n",
    "\n",
    "budget_count"
   ]
  },
  {
   "cell_type": "code",
   "execution_count": null,
   "id": "1710f0fa",
   "metadata": {},
   "outputs": [],
   "source": [
    "# Calculate the average math score.\n",
    "average_math_score = df[\"math_score\"].mean()\n",
    "\n",
    "average_math_score"
   ]
  },
  {
   "cell_type": "code",
   "execution_count": null,
   "id": "ac4af7cd",
   "metadata": {},
   "outputs": [],
   "source": [
    "# Calculate the average reading score\n",
    "average_reading_score = df[\"reading_score\"].mean()\n",
    "\n",
    "average_reading_score"
   ]
  },
  {
   "cell_type": "code",
   "execution_count": null,
   "id": "3596cfa0",
   "metadata": {},
   "outputs": [],
   "source": [
    "#Calculate the percentage of students who passed math (math scores greather than or equal to 70)\n",
    "passing_math_count = df[(df[\"math_score\"] >= 70)].count()[\"student_name\"]\n",
    "\n",
    "passing_math_percentage = passing_math_count / float(student_count) * 100\n",
    "\n",
    "passing_math_percentage"
   ]
  },
  {
   "cell_type": "code",
   "execution_count": null,
   "id": "7e80edf4",
   "metadata": {},
   "outputs": [],
   "source": [
    "# Calculate the percentage of students who passeed reading \n",
    "passing_reading_count = df[(df[\"reading_score\"] >= 70)].count()[\"student_name\"]\n",
    "\n",
    "passing_reading_percentage = passing_reading_count / float(student_count) * 100\n",
    "\n",
    "passing_reading_percentage"
   ]
  },
  {
   "cell_type": "code",
   "execution_count": null,
   "id": "5a6e756f",
   "metadata": {},
   "outputs": [],
   "source": [
    "passing_math_reading_count = df[(df[\"math_score\"] >= 70) & (df[\"reading_score\"] >= 70)].count()[\"student_name\"]\n",
    "\n",
    "overall_passing_rate = passing_math_reading_count /  float(student_count) * 100\n",
    "\n",
    "overall_passing_rate"
   ]
  },
  {
   "cell_type": "code",
   "execution_count": null,
   "id": "16caa61e",
   "metadata": {},
   "outputs": [],
   "source": [
    "# Create a high-level snapshot of the district's key metrics in a DataFrame\n",
    "district_summary = {\"Total Schools\": [school_count],\n",
    "                    \"Total Students\": [student_count],\n",
    "                    \"Total Budget\": [budget_count],\n",
    "                    \"Average Math Score\": [average_math_score],\n",
    "                    \"Average Reading Score\": [average_reading_score],\n",
    "                    \"% Passing Math\": [passing_math_percentage],\n",
    "                    \"% Passing Reading\": [passing_reading_percentage],\n",
    "                    \"% Overall Passing Rate\": [overall_passing_rate]}\n",
    "\n",
    "district_summary_df = pd.DataFrame(district_summary)\n",
    "# Formatting\n",
    "district_summary_df[\"Total Students\"] = district_summary_df['Total Students'].map('{:,}'.format)\n",
    "district_summary_df[\"Total Budget\"] = district_summary_df['Total Budget'].map('${:,.2f}'.format)\n",
    "# Display the DataFrame\n",
    "district_summary_df.head()"
   ]
  },
  {
   "cell_type": "markdown",
   "id": "6233029b",
   "metadata": {},
   "source": [
    "# SCHOOL SUMMARY"
   ]
  },
  {
   "cell_type": "code",
   "execution_count": null,
   "id": "c32c082b",
   "metadata": {},
   "outputs": [],
   "source": [
    "# Select the school name & type\n",
    "schools_grouped = df.groupby(['school_name'])\n",
    "school_types = schools_grouped['type'].first()\n"
   ]
  },
  {
   "cell_type": "code",
   "execution_count": null,
   "id": "087dc977",
   "metadata": {},
   "outputs": [],
   "source": [
    "# Calculate the total student count\n",
    "per_school_counts = schools_grouped['student_name'].count()\n",
    "per_school_counts"
   ]
  },
  {
   "cell_type": "code",
   "execution_count": null,
   "id": "21bdeeb7",
   "metadata": {},
   "outputs": [],
   "source": [
    "# Calculate the total school budget and per capita spending\n",
    "per_school_budget = schools_grouped['budget'].first()\n",
    "per_school_capita = per_school_budget / per_school_counts\n",
    "\n",
    "per_school_capita\n"
   ]
  },
  {
   "cell_type": "code",
   "execution_count": null,
   "id": "f60138ab",
   "metadata": {},
   "outputs": [],
   "source": [
    "# Calculate the average test scores\n",
    "per_school_math = schools_grouped['math_score'].mean()\n",
    "per_school_reading = schools_grouped['reading_score'].mean()\n",
    "\n",
    "per_school_math\n"
   ]
  },
  {
   "cell_type": "code",
   "execution_count": null,
   "id": "e0584312",
   "metadata": {},
   "outputs": [],
   "source": [
    "# Calculate the percentage of students passing math\n",
    "school_passing_math_df = df[df['math_score'] >= 70]\n",
    "school_passing_math_group = school_passing_math_df.groupby(['school_name'])\n",
    "percent_pass_math = school_passing_math_group['math_score'].count() / per_school_counts *100\n",
    "\n",
    "percent_pass_math"
   ]
  },
  {
   "cell_type": "code",
   "execution_count": null,
   "id": "1bf55e72",
   "metadata": {},
   "outputs": [],
   "source": [
    "# Calculate the percentage of students passing reading\n",
    "school_passing_reading_df = df[df['reading_score'] >= 70]\n",
    "school_passing_reading_group = school_passing_reading_df.groupby(['school_name'])\n",
    "percent_pass_reading = school_passing_reading_group['reading_score'].count() / per_school_counts *100\n",
    "\n",
    "percent_pass_reading\n"
   ]
  },
  {
   "cell_type": "code",
   "execution_count": null,
   "id": "8f616b32",
   "metadata": {},
   "outputs": [],
   "source": [
    "# Calculate percentage of students who passed both math & reading\n",
    "overall_passing_df = df[(df['math_score'] >= 70) & (df['reading_score'] >= 70)]\n",
    "overall_passing_group = overall_passing_df.groupby(['school_name'])\n",
    "overall_passing_rate = overall_passing_group['student_name'].count() / per_school_counts *100\n",
    "\n",
    "overall_passing_rate"
   ]
  },
  {
   "cell_type": "code",
   "execution_count": null,
   "id": "13488568",
   "metadata": {},
   "outputs": [],
   "source": [
    "# Create a DataFrame called `per_school_summary` with columns for the calculations above.\n",
    "per_school_summary ={\n",
    "    \"School Type\": school_types,\n",
    "    \"Total Students\": per_school_counts,\n",
    "    \"Total School Budget\": per_school_budget,\n",
    "    \"Per Student Budget\": per_school_capita,\n",
    "    \"Average Math Score\": per_school_math,\n",
    "    \"Average Reading Score\": per_school_reading,\n",
    "    \"% Passing Math\": percent_pass_math,\n",
    "    \"% Passing Reading\": percent_pass_reading,\n",
    "    '% Overall Passing': overall_passing_rate}\n",
    "\n",
    "per_school_summary_df = pd.DataFrame(per_school_summary)\n",
    "\n",
    "per_school_summary_df[\"Total School Budget\"] = per_school_summary_df[\"Total School Budget\"].map(\"${:,.2f}\".format)\n",
    "per_school_summary_df[\"Per Student Budget\"] = per_school_summary_df[\"Per Student Budget\"].map(\"${:,.2f}\".format)\n",
    "\n",
    "per_school_summary_df"
   ]
  },
  {
   "cell_type": "markdown",
   "id": "7fc88c56",
   "metadata": {},
   "source": [
    "Highest-Performing Schools (by % Overall Passing)"
   ]
  },
  {
   "cell_type": "code",
   "execution_count": null,
   "id": "eb67dee9",
   "metadata": {},
   "outputs": [],
   "source": [
    "# Sort the schools by `% Overall Passing` in descending order and display the top 5 rows.\n",
    "best_schools_df = per_school_summary_df.sort_values('% Overall Passing', ascending=False)\n",
    "\n",
    "best_schools_df.head()"
   ]
  },
  {
   "cell_type": "markdown",
   "id": "0052d838",
   "metadata": {},
   "source": [
    "Bottom Performing Schools (By % Overall Passing)"
   ]
  },
  {
   "cell_type": "code",
   "execution_count": null,
   "id": "6899495f",
   "metadata": {},
   "outputs": [],
   "source": [
    "# Sort the schools by `% Overall Passing` in ascending order and display the top 5 rows.\n",
    "Worst_schools_df = per_school_summary_df.sort_values('% Overall Passing', ascending=True)\n",
    "\n",
    "Worst_schools_df.head()"
   ]
  },
  {
   "cell_type": "markdown",
   "id": "e4651f4e",
   "metadata": {},
   "source": [
    "# MATH SCORES BY GRADE"
   ]
  },
  {
   "cell_type": "code",
   "execution_count": null,
   "id": "ec1bb364",
   "metadata": {},
   "outputs": [],
   "source": [
    "# Separate the data by grade\n",
    "ninth_graders = df[(df[\"grade\"] == \"9th\")]\n",
    "tenth_graders = df[(df[\"grade\"] == \"10th\")]\n",
    "eleventh_graders = df[(df[\"grade\"] == \"11th\")]\n",
    "twelfth_graders = df[(df[\"grade\"] == \"12th\")]\n",
    "\n",
    "# Group by \"school_name\" and take the mean of each.\n",
    "gr_nine_grouped = ninth_graders.groupby(['school_name'])\n",
    "gr_ten_grouped = tenth_graders.groupby(['school_name'])\n",
    "gr_eleven_grouped = eleventh_graders.groupby(['school_name'])\n",
    "gr_twelve_grouped = twelfth_graders.groupby(['school_name'])\n",
    "\n",
    "math_nine = gr_nine_grouped['math_score'].mean()\n",
    "math_ten = gr_ten_grouped['math_score'].mean()\n",
    "math_eleven = gr_eleven_grouped['math_score'].mean()\n",
    "math_twelve = gr_twelve_grouped['math_score'].mean()\n",
    "\n",
    "# Combine each of the scores above into single DataFrame called `math_scores_by_grade`\n",
    "math_score_by_grade = {\n",
    "    '9th': math_nine,\n",
    "    '10th': math_ten,\n",
    "    '11th': math_eleven,\n",
    "    '12th': math_twelve}\n",
    "\n",
    "math_scores_by_grade_df = pd.DataFrame(math_score_by_grade)\n",
    "\n",
    "# Minor data wrangling\n",
    "math_scores_by_grade_df.index.name = None\n",
    "\n",
    "# Display the DataFrame\n",
    "math_scores_by_grade_df"
   ]
  },
  {
   "cell_type": "markdown",
   "id": "2b233613",
   "metadata": {},
   "source": [
    "# READING SCORES BY GRADE"
   ]
  },
  {
   "cell_type": "code",
   "execution_count": null,
   "id": "5e8d985e",
   "metadata": {},
   "outputs": [],
   "source": [
    "# Separate the data by grade\n",
    "ninth_graders = df[(df[\"grade\"] == \"9th\")]\n",
    "tenth_graders = df[(df[\"grade\"] == \"10th\")]\n",
    "eleventh_graders = df[(df[\"grade\"] == \"11th\")]\n",
    "twelfth_graders = df[(df[\"grade\"] == \"12th\")]\n",
    "\n",
    "# Group by \"school_name\" and take the mean of each.\n",
    "gr_nine_grouped = ninth_graders.groupby(['school_name'])\n",
    "gr_ten_grouped = tenth_graders.groupby(['school_name'])\n",
    "gr_eleven_grouped = eleventh_graders.groupby(['school_name'])\n",
    "gr_twelve_grouped = twelfth_graders.groupby(['school_name'])\n",
    "\n",
    "reading_nine = gr_nine_grouped['reading_score'].mean()\n",
    "reading_ten = gr_ten_grouped['reading_score'].mean()\n",
    "reading_eleven = gr_eleven_grouped['reading_score'].mean()\n",
    "reading_twelve = gr_twelve_grouped['reading_score'].mean()\n",
    "\n",
    "# Combine each of the scores above into single DataFrame called `reading_scores_by_grade`\n",
    "reading_score_by_grade = {\n",
    "    '9th': reading_nine,\n",
    "    '10th': reading_ten,\n",
    "    '11th': reading_eleven,\n",
    "    '12th': reading_twelve}\n",
    "\n",
    "reading_scores_by_grade_df = pd.DataFrame(reading_score_by_grade)\n",
    "\n",
    "# Minor data wrangling\n",
    "reading_scores_by_grade_df.index.name = None\n",
    "\n",
    "# Display the DataFrame\n",
    "reading_scores_by_grade_df"
   ]
  },
  {
   "cell_type": "markdown",
   "id": "5e6abd23",
   "metadata": {},
   "source": [
    "# SCORES BY SCHOOL SPENDING"
   ]
  },
  {
   "cell_type": "code",
   "execution_count": null,
   "id": "c5fe7c7e",
   "metadata": {},
   "outputs": [],
   "source": [
    "# Establish the bins \n",
    "spending_bins = [0, 585, 630, 645, 680]\n",
    "labels = [\"<$585\", \"$585-630\", \"$630-645\", \"$645-680\"]\n"
   ]
  },
  {
   "cell_type": "code",
   "execution_count": null,
   "id": "c90e7bb8",
   "metadata": {},
   "outputs": [],
   "source": [
    "# Convert Per Student Budget back to float from string \n",
    "per_school_summary_df[\"Per Student Budget\"] = per_school_summary_df[\"Per Student Budget\"].apply(lambda x: x.replace('$', '').replace(',', '')).astype('float')\n",
    "# Reset Index in group by \"school name\"\n",
    "per_school_summary_df = per_school_summary_df.reset_index()\n",
    "# Use `pd.cut` to categorize spending based on the bins.\n",
    "per_school_summary_df[\"Spending Ranges (Per Student)\"] = pd.cut(per_school_summary_df[\"Per Student Budget\"], spending_bins, labels=labels)\n",
    "\n",
    "per_school_summary_df"
   ]
  },
  {
   "cell_type": "code",
   "execution_count": null,
   "id": "e7aa8f12",
   "metadata": {
    "scrolled": true
   },
   "outputs": [],
   "source": [
    "# Groupby Spending ranges\n",
    "grouped_spending_df = per_school_summary_df.groupby([\"Spending Ranges (Per Student)\"])              \n",
    "\n",
    "# Calculate averages for the desired columns. \n",
    "spending_summary_df = grouped_spending_df.mean()\n",
    "\n",
    "# Display Summary\n",
    "spending_summary_df[[\"Average Math Score\",\n",
    "                    \"Average Reading Score\",\n",
    "                    \"% Passing Math\",\n",
    "                    \"% Passing Reading\",\n",
    "                    \"% Overall Passing\"]]\n"
   ]
  },
  {
   "cell_type": "markdown",
   "id": "28dc9504",
   "metadata": {},
   "source": [
    "# SCORES BY SCHOOL SIZE"
   ]
  },
  {
   "cell_type": "code",
   "execution_count": null,
   "id": "1c9a5af5",
   "metadata": {},
   "outputs": [],
   "source": [
    "# Establish the bins.\n",
    "size_bins = [0, 1000, 2000, 5000]\n",
    "labels = [\"Small (<1000)\", \"Medium (1000-2000)\", \"Large (2000-5000)\"]\n"
   ]
  },
  {
   "cell_type": "code",
   "execution_count": null,
   "id": "d23bde95",
   "metadata": {},
   "outputs": [],
   "source": [
    "# Categorize the spending based on the bins\n",
    "\n",
    "# Reset Index in group by \"Spending Ranges (Per Student)\"\n",
    "per_school_summary_df = per_school_summary_df.reset_index()\n",
    "# Use `pd.cut` on the \"Total Students\" column of the `per_school_summary` DataFrame.\n",
    "per_school_summary_df[\"School Size\"] = pd.cut(per_school_summary_df[\"Total Students\"], size_bins, labels=labels)\n",
    "\n",
    "per_school_summary_df"
   ]
  },
  {
   "cell_type": "code",
   "execution_count": null,
   "id": "ac98fd32",
   "metadata": {},
   "outputs": [],
   "source": [
    "# Groupby Spending ranges\n",
    "school_size_df = per_school_summary_df.groupby([\"School Size\"])   \n",
    "# Calculate the values for the data table\n",
    "school_size_summary_df = school_size_df.mean()\n",
    "\n",
    "# Display Summary\n",
    "school_size_summary_df[[\"Average Math Score\",\n",
    "                \"Average Reading Score\",\n",
    "                \"% Passing Math\",\n",
    "                \"% Passing Reading\",\n",
    "                \"% Overall Passing\"]]\n"
   ]
  },
  {
   "cell_type": "markdown",
   "id": "b413888e",
   "metadata": {},
   "source": [
    "# SCORES BY SCHOOL TYPE"
   ]
  },
  {
   "cell_type": "code",
   "execution_count": null,
   "id": "e09aad2d",
   "metadata": {},
   "outputs": [],
   "source": [
    "# Group the per_school_summary DataFrame by \"School Type\" and average the results.\n",
    "# Reset Index in group by \"Spending Ranges (Per Student)\"\n",
    "per_school_summary_df = per_school_summary_df.reset_index()\n",
    "# Groupby Spending ranges\n",
    "type_df = per_school_summary_df.groupby([\"School Type\"])              \n",
    "# Calculate the values for the data table\n",
    "school_type_summary_df = type_df.mean()\n",
    "\n",
    "# Display Summary\n",
    "school_type_summary_df[[\"Average Math Score\",\n",
    "                \"Average Reading Score\",\n",
    "                \"% Passing Math\",\n",
    "                \"% Passing Reading\",\n",
    "                \"% Overall Passing\"]]\n"
   ]
  },
  {
   "cell_type": "code",
   "execution_count": null,
   "id": "94690905",
   "metadata": {},
   "outputs": [],
   "source": []
  }
 ],
 "metadata": {
  "kernelspec": {
   "display_name": "Python 3 (ipykernel)",
   "language": "python",
   "name": "python3"
  },
  "language_info": {
   "codemirror_mode": {
    "name": "ipython",
    "version": 3
   },
   "file_extension": ".py",
   "mimetype": "text/x-python",
   "name": "python",
   "nbconvert_exporter": "python",
   "pygments_lexer": "ipython3",
   "version": "3.9.13"
  }
 },
 "nbformat": 4,
 "nbformat_minor": 5
}
